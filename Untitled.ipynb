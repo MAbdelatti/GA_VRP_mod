{
 "cells": [
  {
   "cell_type": "code",
   "execution_count": 1,
   "metadata": {},
   "outputs": [],
   "source": [
    "import cupy as cp\n",
    "from numba import cuda\n",
    "from math import ceil"
   ]
  },
  {
   "cell_type": "code",
   "execution_count": 2,
   "metadata": {},
   "outputs": [],
   "source": [
    "@cuda.jit\n",
    "def inverse_mutate(random_min_max, pop, mutation_prob):\n",
    "    threadId_row, threadId_col = cuda.grid(2)\n",
    "    stride_x, stride_y = cuda.gridsize(2)\n",
    "     \n",
    "    for row in range(threadId_row, pop.shape[0], stride_x):\n",
    "        for col in range(threadId_col, pop.shape[1], stride_y):\n",
    "            start  = random_min_max[row, 0]\n",
    "            ending = random_min_max[row, 1]\n",
    "            length = ending - start\n",
    "            diff   = col - start\n",
    "            if col >= start and col < start+ceil(length/2):\n",
    "                pop[row, col], pop[row, ending-diff] = pop[row, ending-diff], pop[row, col]"
   ]
  },
  {
   "cell_type": "code",
   "execution_count": 9,
   "metadata": {},
   "outputs": [],
   "source": [
    "def cp_inverse_mutate(pop, popsize, mutation_prob):\n",
    "\n",
    "#     random_arr = cp.random.randint(1, 100, (popsize, 1))\n",
    "    \n",
    "    for i, individual in enumerate(pop):\n",
    "#         if random_arr[i] <= mutation_prob:\n",
    "        individual = cp.concatenate((individual[0:random_min_max[i,0]],\\\n",
    "        cp.flip(individual[random_min_max[i,0]:random_min_max[i,1]], axis=0), individual[random_min_max[i,1]:]))\n",
    "        pop[i,:] = individual[:]"
   ]
  },
  {
   "cell_type": "code",
   "execution_count": 15,
   "metadata": {},
   "outputs": [],
   "source": [
    "pop = cp.arange(200000).reshape(1000,200)\n",
    "popsize = 1000\n",
    "random_min_max = cp.random.randint(2, pop.shape[1]-2, (popsize, 2))\n",
    "random_min_max.sort()"
   ]
  },
  {
   "cell_type": "code",
   "execution_count": 18,
   "metadata": {},
   "outputs": [
    {
     "name": "stdout",
     "output_type": "stream",
     "text": [
      "310 µs ± 1.44 µs per loop (mean ± std. dev. of 7 runs, 1000 loops each)\n"
     ]
    }
   ],
   "source": [
    "%timeit inverse_mutate[(30,30),(20,20)](random_min_max, pop, 100)"
   ]
  },
  {
   "cell_type": "code",
   "execution_count": 17,
   "metadata": {},
   "outputs": [
    {
     "name": "stdout",
     "output_type": "stream",
     "text": [
      "108 ms ± 83.3 µs per loop (mean ± std. dev. of 7 runs, 10 loops each)\n"
     ]
    }
   ],
   "source": [
    "%timeit cp_inverse_mutate(random_min_max, pop, 100)"
   ]
  }
 ],
 "metadata": {
  "kernelspec": {
   "display_name": "Python 3",
   "language": "python",
   "name": "python3"
  },
  "language_info": {
   "codemirror_mode": {
    "name": "ipython",
    "version": 3
   },
   "file_extension": ".py",
   "mimetype": "text/x-python",
   "name": "python",
   "nbconvert_exporter": "python",
   "pygments_lexer": "ipython3",
   "version": "3.8.5"
  }
 },
 "nbformat": 4,
 "nbformat_minor": 4
}
